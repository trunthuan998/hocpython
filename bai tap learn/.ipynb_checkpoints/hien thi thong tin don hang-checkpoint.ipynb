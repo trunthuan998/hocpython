{
 "cells": [
  {
   "cell_type": "code",
   "execution_count": 15,
   "id": "797438b6-9f63-4198-b3e6-3310ff976ebc",
   "metadata": {},
   "outputs": [
    {
     "name": "stdin",
     "output_type": "stream",
     "text": [
      "số tiền bạn đã chi là ($):  55\n"
     ]
    },
    {
     "name": "stdout",
     "output_type": "stream",
     "text": [
      "sô tiền bạn phải thanh toán là: 55.0 $\n"
     ]
    }
   ],
   "source": [
    "so_tien_da_chi = float(input(\"số tiền bạn đã chi là ($): \"))\n",
    "\n",
    "if so_tien_da_chi >= 150:\n",
    "    khuyen_mai = 50\n",
    "elif so_tien_da_chi >= 100:\n",
    "    khuyen_mai = 25\n",
    "elif so_tien_da_chi >= 75:\n",
    "    khuyen_mai = 15\n",
    "else:\n",
    "    khuyen_mai = 0\n",
    "print(f\"sô tiền bạn phải thanh toán là: {so_tien_da_chi - khuyen_mai} $\")\n"
   ]
  }
 ],
 "metadata": {
  "kernelspec": {
   "display_name": "Python 3 (ipykernel)",
   "language": "python",
   "name": "python3"
  },
  "language_info": {
   "codemirror_mode": {
    "name": "ipython",
    "version": 3
   },
   "file_extension": ".py",
   "mimetype": "text/x-python",
   "name": "python",
   "nbconvert_exporter": "python",
   "pygments_lexer": "ipython3",
   "version": "3.11.4"
  }
 },
 "nbformat": 4,
 "nbformat_minor": 5
}
