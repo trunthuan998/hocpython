{
 "cells": [
  {
   "cell_type": "code",
   "execution_count": 8,
   "id": "56857cbf-d9c7-4f80-9822-5ad1f7f23f45",
   "metadata": {},
   "outputs": [
    {
     "name": "stdin",
     "output_type": "stream",
     "text": [
      "Enter first number:  8\n",
      "Enter second number:  5\n",
      "Enter third number:  6\n"
     ]
    },
    {
     "name": "stdout",
     "output_type": "stream",
     "text": [
      "Sorted numbers:  5 6 8\n"
     ]
    }
   ],
   "source": [
    "def sap_xep(num1,num2,num3):\n",
    "    temp = 0 \n",
    "    if num2 < num1 and num2 < num3:\n",
    "            temp = num1\n",
    "            num1 = num2\n",
    "            num2 = temp\n",
    "    elif num3 < num1 and num3 < num2:\n",
    "            temp = num1\n",
    "            num1 = num3\n",
    "            num3 = temp\n",
    "    if num3 < num2:\n",
    "        temp = num2\n",
    "        num2 = num3\n",
    "        num3 = temp\n",
    "    return (num1, num2, num3)\n",
    "x = int(input(\"Enter first number: \"))\n",
    "y = int(input(\"Enter second number: \"))\n",
    "z = int(input(\"Enter third number: \"))\n",
    "a,b,c = sap_xep(x,y,z)\n",
    "print(\"Sorted numbers: \", a, b, c)"
   ]
  }
 ],
 "metadata": {
  "kernelspec": {
   "display_name": "Python 3 (ipykernel)",
   "language": "python",
   "name": "python3"
  },
  "language_info": {
   "codemirror_mode": {
    "name": "ipython",
    "version": 3
   },
   "file_extension": ".py",
   "mimetype": "text/x-python",
   "name": "python",
   "nbconvert_exporter": "python",
   "pygments_lexer": "ipython3",
   "version": "3.11.4"
  }
 },
 "nbformat": 4,
 "nbformat_minor": 5
}
