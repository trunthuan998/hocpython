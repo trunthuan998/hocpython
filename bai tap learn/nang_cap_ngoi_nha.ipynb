{
 "cells": [
  {
   "cell_type": "code",
   "execution_count": 21,
   "id": "52ba7a65-8cca-40cf-8173-d6a0d250df80",
   "metadata": {},
   "outputs": [],
   "source": [
    "import turtle\n",
    "p = turtle.Turtle()\n",
    "p.pencolor(\"red\")\n",
    "p.fillcolor(\"yellow\")\n",
    "\n",
    "for i in range(2):\n",
    " p.forward(200)\n",
    " p.right(90)\n",
    " p.forward(100)\n",
    " p.right(90)\n",
    "\n",
    "p.left(30)\n",
    "p.forward(100)\n",
    "p.right(60)\n",
    "p.forward(100)\n",
    "\n",
    "turtle.done()"
   ]
  }
 ],
 "metadata": {
  "kernelspec": {
   "display_name": "Python 3 (ipykernel)",
   "language": "python",
   "name": "python3"
  },
  "language_info": {
   "codemirror_mode": {
    "name": "ipython",
    "version": 3
   },
   "file_extension": ".py",
   "mimetype": "text/x-python",
   "name": "python",
   "nbconvert_exporter": "python",
   "pygments_lexer": "ipython3",
   "version": "3.11.4"
  }
 },
 "nbformat": 4,
 "nbformat_minor": 5
}
