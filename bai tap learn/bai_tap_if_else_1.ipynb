{
 "cells": [
  {
   "cell_type": "code",
   "execution_count": 12,
   "id": "7c4260c9-0e51-42f1-9647-dc1ea59ec113",
   "metadata": {},
   "outputs": [
    {
     "name": "stdin",
     "output_type": "stream",
     "text": [
      "nhap so bat ky:  51189198\n"
     ]
    },
    {
     "name": "stdout",
     "output_type": "stream",
     "text": [
      "so ban nhap la: so chan\n"
     ]
    }
   ],
   "source": [
    "so_bat_ky = int(input(\"nhap so bat ky: \"))\n",
    "so_du = so_bat_ky % 2\n",
    "\n",
    "ket_qua = \"so chan\" if so_du == 0 else \"so le\"\n",
    "\n",
    "print(\"so ban nhap la:\",ket_qua)"
   ]
  },
  {
   "cell_type": "code",
   "execution_count": null,
   "id": "f3e2eebb-0cff-4817-a6a6-e252cd85f435",
   "metadata": {},
   "outputs": [],
   "source": []
  }
 ],
 "metadata": {
  "kernelspec": {
   "display_name": "Python 3 (ipykernel)",
   "language": "python",
   "name": "python3"
  },
  "language_info": {
   "codemirror_mode": {
    "name": "ipython",
    "version": 3
   },
   "file_extension": ".py",
   "mimetype": "text/x-python",
   "name": "python",
   "nbconvert_exporter": "python",
   "pygments_lexer": "ipython3",
   "version": "3.11.4"
  }
 },
 "nbformat": 4,
 "nbformat_minor": 5
}
