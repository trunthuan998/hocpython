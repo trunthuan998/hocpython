{
 "cells": [
  {
   "cell_type": "code",
   "execution_count": 165,
   "id": "a90461fe-e569-4c5a-a1d1-feb27a91ab05",
   "metadata": {},
   "outputs": [],
   "source": [
    "# vẽ hình ellipse\n",
    "import turtle\n",
    "p = turtle.Turtle()\n",
    "a = 0\n",
    "r = 100\n",
    "\n",
    "while a < 2:\n",
    "    p.circle(r,90)\n",
    "    p.circle(r/2,90)\n",
    "    a += 1\n",
    "turtle.done()\n",
    "    "
   ]
  },
  {
   "cell_type": "code",
   "execution_count": 167,
   "id": "aa3a0e81-4436-493c-82f1-a0ae9af9ce36",
   "metadata": {},
   "outputs": [],
   "source": [
    "# vẽ hình ellipse 2\n",
    "import turtle\n",
    "p = turtle.Turtle()\n",
    "p.speed(20)\n",
    "count = 0\n",
    "r = 100\n",
    "\n",
    "while count < 18:\n",
    "    if count in (0,5,10,15) :\n",
    "        mau = \"red\"\n",
    "    elif count in (1,6,11,16) :\n",
    "        mau = \"blue\"\n",
    "    elif count in (2,7,12,17) :\n",
    "        mau = \"orange\"\n",
    "    elif count in (3,8,13) :\n",
    "        mau = \"yellow\"\n",
    "    elif count in (4,9,14) :\n",
    "        mau = \"green\"\n",
    "    p.pencolor(mau)\n",
    "    \n",
    "    for i in range(2):\n",
    "        p.circle(r,90)\n",
    "        p.circle(r/2,90)\n",
    "    \n",
    "    count += 1\n",
    "    p.right(20)\n",
    "    \n",
    "turtle.done()"
   ]
  }
 ],
 "metadata": {
  "kernelspec": {
   "display_name": "Python 3 (ipykernel)",
   "language": "python",
   "name": "python3"
  },
  "language_info": {
   "codemirror_mode": {
    "name": "ipython",
    "version": 3
   },
   "file_extension": ".py",
   "mimetype": "text/x-python",
   "name": "python",
   "nbconvert_exporter": "python",
   "pygments_lexer": "ipython3",
   "version": "3.11.4"
  }
 },
 "nbformat": 4,
 "nbformat_minor": 5
}
