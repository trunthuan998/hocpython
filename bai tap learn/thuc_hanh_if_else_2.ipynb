{
 "cells": [
  {
   "cell_type": "code",
   "execution_count": 78,
   "id": "017e8a1b-3aeb-4e0b-a91d-d4873bc15f1b",
   "metadata": {},
   "outputs": [],
   "source": [
    "import turtle\n",
    "p = turtle.Turtle()\n",
    "import random\n",
    "\n",
    "number = random.uniform(0, 3)\n",
    "so_ngau_nhien = int(number)\n",
    "\n",
    "if so_ngau_nhien < 1:\n",
    "        p.fillcolor(\"green\")      \n",
    "elif so_ngau_nhien < 2:\n",
    "        p.fillcolor(\"yellow\")      \n",
    "elif so_ngau_nhien< 3:\n",
    "        p.fillcolor(\"red\")      \n",
    "p.begin_fill()        \n",
    "p.circle(100)\n",
    "p.end_fill()\n",
    "turtle.done()\n"
   ]
  },
  {
   "cell_type": "code",
   "execution_count": null,
   "id": "1fd11f01-c5ed-4b62-b61e-2436a66ba359",
   "metadata": {},
   "outputs": [],
   "source": []
  }
 ],
 "metadata": {
  "kernelspec": {
   "display_name": "Python 3 (ipykernel)",
   "language": "python",
   "name": "python3"
  },
  "language_info": {
   "codemirror_mode": {
    "name": "ipython",
    "version": 3
   },
   "file_extension": ".py",
   "mimetype": "text/x-python",
   "name": "python",
   "nbconvert_exporter": "python",
   "pygments_lexer": "ipython3",
   "version": "3.11.4"
  }
 },
 "nbformat": 4,
 "nbformat_minor": 5
}
