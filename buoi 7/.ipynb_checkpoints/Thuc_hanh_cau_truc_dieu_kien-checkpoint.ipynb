{
 "cells": [
  {
   "cell_type": "markdown",
   "id": "49302863",
   "metadata": {},
   "source": [
    "# Thực hành: Cấu trúc điều kiện"
   ]
  },
  {
   "cell_type": "markdown",
   "id": "46ccf6e6",
   "metadata": {},
   "source": [
    "### Bài 1: Viết chương trình nhập vào chiều dài và chiều rộng của hình chữ nhật và cho biết đó có phải là hình vuông hay không."
   ]
  },
  {
   "cell_type": "code",
   "execution_count": 7,
   "id": "556994f0",
   "metadata": {},
   "outputs": [
    {
     "name": "stdin",
     "output_type": "stream",
     "text": [
      "chieu dai: -5\n",
      "chieu rong: -5\n"
     ]
    },
    {
     "name": "stdout",
     "output_type": "stream",
     "text": [
      "nhập sai kích thước\n"
     ]
    }
   ],
   "source": [
    "a = float(input(\"chieu dai:\"))\n",
    "b = float(input(\"chieu rong:\"))\n",
    "if a > 0 and b > 0:\n",
    "    if a == b:\n",
    "        print(\"hình vuông\")\n",
    "    else: \n",
    "        print(\"ko phải hình vuông\")\n",
    "else: \n",
    "    print(\"nhập sai kích thước\")"
   ]
  },
  {
   "cell_type": "markdown",
   "id": "9fb580f4",
   "metadata": {},
   "source": [
    "### Bài 2: Viết chương trình nhập vào 2 số a, b và in ra số lớn nhất"
   ]
  },
  {
   "cell_type": "code",
   "execution_count": 13,
   "id": "8addea4b",
   "metadata": {},
   "outputs": [
    {
     "name": "stdin",
     "output_type": "stream",
     "text": [
      "a =  5\n",
      "b =  5\n"
     ]
    },
    {
     "name": "stdout",
     "output_type": "stream",
     "text": [
      "số lớn nhất là: a = b = 5.0 \n"
     ]
    }
   ],
   "source": [
    "a = float(input(\"a = \"))\n",
    "b = float(input(\"b = \"))\n",
    "\n",
    "if a > b :\n",
    "    print(f\"số lớn nhất là: a = {a} \")\n",
    "elif a == b :\n",
    "    print(f\"số lớn nhất là: a = b = {a} \")\n",
    "else : \n",
    "    print(f\"số lớn nhất là: b = {b} \")"
   ]
  },
  {
   "cell_type": "markdown",
   "id": "69d21160",
   "metadata": {},
   "source": [
    "### Bài 3: Viết chương trình nhập vào 3 số a, b, c và in ra số lớn nhất"
   ]
  },
  {
   "cell_type": "code",
   "execution_count": 5,
   "id": "999d6399",
   "metadata": {},
   "outputs": [
    {
     "name": "stdin",
     "output_type": "stream",
     "text": [
      "a =  5\n",
      "b =  8\n",
      "c =  9\n"
     ]
    },
    {
     "name": "stdout",
     "output_type": "stream",
     "text": [
      "9.0\n"
     ]
    }
   ],
   "source": [
    "a = float(input(\"a = \"))\n",
    "b = float(input(\"b = \"))\n",
    "c = float(input(\"c = \"))\n",
    "\n",
    "so_lon_nhat = max(a,b,c)\n",
    "print(so_lon_nhat)\n"
   ]
  },
  {
   "cell_type": "markdown",
   "id": "4e8b134a",
   "metadata": {},
   "source": [
    "### Bài 4: Viết chương trình nhập vào số tuổi của 3 người và cho biết ai là người trẻ nhất và ai là người lớn tuổi nhất"
   ]
  },
  {
   "cell_type": "code",
   "execution_count": 6,
   "id": "595c46a2",
   "metadata": {},
   "outputs": [
    {
     "name": "stdin",
     "output_type": "stream",
     "text": [
      "a =  5\n",
      "b =  8\n",
      "c =  9\n"
     ]
    },
    {
     "name": "stdout",
     "output_type": "stream",
     "text": [
      "9.0\n",
      "5.0\n"
     ]
    }
   ],
   "source": [
    "a = float(input(\"a = \"))\n",
    "b = float(input(\"b = \"))\n",
    "c = float(input(\"c = \"))\n",
    "so_lon_nhat = max(a,b,c)\n",
    "so_nho_nhat = min(a,b,c)\n",
    "print(so_lon_nhat)\n",
    "print(so_nho_nhat)"
   ]
  },
  {
   "cell_type": "markdown",
   "id": "bab39fe3",
   "metadata": {},
   "source": [
    "### Bài 5: Viết chương trình nhập vào một số bất kỳ và in ra giá trị tuyệt đối của số đó"
   ]
  },
  {
   "cell_type": "code",
   "execution_count": 9,
   "id": "db1b6c29",
   "metadata": {},
   "outputs": [
    {
     "name": "stdin",
     "output_type": "stream",
     "text": [
      "a =  -65\n"
     ]
    },
    {
     "name": "stdout",
     "output_type": "stream",
     "text": [
      "65.0\n"
     ]
    }
   ],
   "source": [
    "a = float(input(\"a = \"))\n",
    "if a >= 0: \n",
    "    print(a)\n",
    "else: \n",
    "    a *= -1\n",
    "    print(a)"
   ]
  },
  {
   "cell_type": "markdown",
   "id": "34ff32df",
   "metadata": {},
   "source": [
    "### Bài 6: Học viên sẽ không đủ điều kiện thi nếu tỉ lệ có mặt nhỏ hơn 75%. Viết chương trình nhập vào tổng số buổi học của một khóa học và tổng số buổi học mà học viên tham gia. Sau đó cho biết học viên đó có đủ điều kiện thi hay không."
   ]
  },
  {
   "cell_type": "code",
   "execution_count": 18,
   "id": "3eaa86ce",
   "metadata": {},
   "outputs": [
    {
     "name": "stdin",
     "output_type": "stream",
     "text": [
      "tong so buoi:  100\n",
      "tong so buoi tham gia:  76\n"
     ]
    },
    {
     "name": "stdout",
     "output_type": "stream",
     "text": [
      "du dk\n"
     ]
    }
   ],
   "source": [
    "tong_so_buoi = int(input(\"tong so buoi: \"))\n",
    "so_buoi_tham_gia = int(input(\"tong so buoi tham gia: \"))\n",
    "dieu_kien = (tong_so_buoi*75)/100\n",
    "if so_buoi_tham_gia > dieu_kien:\n",
    "    print(\"du dk\")\n",
    "else:\n",
    "    print(\"ko du dk\")\n"
   ]
  },
  {
   "cell_type": "markdown",
   "id": "dfd13726",
   "metadata": {},
   "source": [
    "### Bài 7: Một công ty vận tải có cách tính chi phí giao hàng như sau:\n",
    "1. 10kilogram đầu tiên: \\$5/kg\n",
    "2. Từ kilogram thứ 11 đến 20: \\$7/kg\n",
    "3. Từ kilogram thứ 20 trở lên: \\$10/kg\n",
    "\n",
    "Viết chương trình nhập vào số kg cần giao(số nguyên) và in ra chi phí giao hàng tương ứng"
   ]
  },
  {
   "attachments": {
    "80011d77-f4b7-499a-84d9-fb12da7cc626.png": {
     "image/png": "[encoded data removed]"
    }
   },
   "cell_type": "markdown",
   "id": "3c4fd8d4-6bf4-4ef1-8905-6fcd5041dfd6",
   "metadata": {},
   "source": [
    "![image.png](attachment:80011d77-f4b7-499a-84d9-fb12da7cc626.png)"
   ]
  },
  {
   "cell_type": "markdown",
   "id": "bd90d2aa",
   "metadata": {},
   "source": [
    "### Bài 8: Viết chương trình nhập vào số năm và cho biết năm đó là năm nhuận hay năm không nhuận."
   ]
  },
  {
   "attachments": {
    "fea7ddaa-d83d-4331-b6ca-f06e37470033.png": {
     "image/png": "[encoded data removed]"
    }
   },
   "cell_type": "markdown",
   "id": "90a5bced-8ece-4e4c-9cde-2aa88d552078",
   "metadata": {},
   "source": [
    "![image.png](attachment:fea7ddaa-d83d-4331-b6ca-f06e37470033.png)"
   ]
  },
  {
   "cell_type": "markdown",
   "id": "b9785142",
   "metadata": {},
   "source": [
    "### Bài 9: Viết chương trình nhập vào 1 số từ 1 đến 7 và in ra số ngày trong tuần tương ứng như sau:\n",
    "- 1: Sunday\n",
    "- 2: Monday\n",
    "- 3: Tuesday\n",
    "- 4: Wednesday\n",
    "- 5: Thursday\n",
    "- 6: Friday\n",
    "- 7: Saturday"
   ]
  },
  {
   "cell_type": "code",
   "execution_count": null,
   "id": "f34e32bc",
   "metadata": {},
   "outputs": [],
   "source": []
  },
  {
   "cell_type": "markdown",
   "id": "8ea2e041",
   "metadata": {},
   "source": [
    "### Bài 10:\n",
    "Tại một cửa hàng nọ có menu như sau:\n",
    "\n",
    "1. Gà rán giá 35k\n",
    "2. Hamburger giá 50k\n",
    "3. Pesi giá 10k\n",
    "\n",
    "Nhập số lượng món hàng cần mua\n",
    "\n",
    "Tính và in ra tổng giá tiền\n",
    "\n",
    "Nếu giá trị đơn hàng trên 2 triệu, giảm 10% cho khách, trên 4 triệu, giảm 15%\n",
    "\n",
    "Tính và in ra tổng giá tiền được giảm\n",
    "\n",
    "Tính và in ra tổng giá tiền khách cần trả\n",
    "\n",
    "In ra dòng chữ \"Cảm ơn quý khách đã mua hàng\""
   ]
  },
  {
   "cell_type": "code",
   "execution_count": null,
   "id": "87c6d4a1",
   "metadata": {},
   "outputs": [],
   "source": [
    "\"\"\"Ví dụ:\n",
    "Nhập số lượng gà rán khách mua:100\n",
    "Nhập số lượng hamburger khách mua:100\n",
    "Nhập số lượng pesi khách mua:15\n",
    "Tổng giá tiền đơn hàng là: 8.650.000\n",
    "Tổng tiền được giảm là: 1.297.500\n",
    "Tổng tiền phải thanh toán: 7.352.500\n",
    "Cảm ơn quý khách đã mua\n",
    "\"\"\""
   ]
  },
  {
   "cell_type": "code",
   "execution_count": null,
   "id": "f75fa383",
   "metadata": {},
   "outputs": [],
   "source": [
    "chicken = int(input(\"nhap so luong ga ran:\"))\n",
    "hamburger = int(input(\"nhap so luong hamburger:\"))\n",
    "pepsi = int(input(\"nhap so luong pepsi:\"))\n",
    "\n",
    "total = chicken*35000 + hamburger*50000 + pepsi*10000\n",
    "print(f\"tong gia tri don hang: {total}\")\n",
    "\n",
    "if total > 4000000:\n",
    "    discount = 0.15*total\n",
    "    total -= discount\n",
    "    print(discount)\n",
    "elif total >= 2000000:\n",
    "    discount = 0.1*total\n",
    "    total -= discount\n",
    "    print(discount)\n",
    "print(total)"
   ]
  },
  {
   "cell_type": "markdown",
   "id": "e9853dc8",
   "metadata": {},
   "source": [
    "### Bài 11:\n",
    "\n",
    "Nhập vào chiều cao (cm) và cân nặng (kg), tính số BMI và xét rồi xin kết quả theo dữ liệu sau:\n",
    "\n",
    "- BMI < 16: Gầy cấp độ III\n",
    "- 16 <= BMI < 17:  Gầy cấp độ II\n",
    "- 17<= BMI < 18.5: Gầy cấp độ I\n",
    "- 18.5 <= BMI < 25: Bình thường\n",
    "- 25 <= BMI < 30: Thừa cân\n",
    "- 30 <= BMI < 35 : Béo phì cấp độ I\n",
    "- 35 <= BMI < 40: Béo phì cấp độ II\n",
    "- BMI > 40: Béo phì cấp độ III"
   ]
  },
  {
   "cell_type": "code",
   "execution_count": null,
   "id": "ac5f1a74",
   "metadata": {},
   "outputs": [],
   "source": []
  },
  {
   "cell_type": "markdown",
   "id": "5e374dbb",
   "metadata": {},
   "source": [
    "### Bài 12: Tìm ra người lớn tuổi nhất trong 4 người thông qua số tuổi nhập vào từ người dùng."
   ]
  },
  {
   "cell_type": "code",
   "execution_count": 2,
   "id": "d0124153",
   "metadata": {},
   "outputs": [
    {
     "name": "stdin",
     "output_type": "stream",
     "text": [
      " 8\n",
      " 5\n",
      " 1\n",
      " 8\n"
     ]
    },
    {
     "name": "stdout",
     "output_type": "stream",
     "text": [
      "8 1\n"
     ]
    }
   ],
   "source": [
    "a = int(input(\"\"))\n",
    "b = int(input(\"\"))\n",
    "c = int(input(\"\"))\n",
    "d = int(input(\"\"))\n",
    "\n",
    "max_age = a # gia dinh rang a la lon tuoi nhat\n",
    "max_index = 1\n",
    "\n",
    "# kiem tra gia thuyet\n",
    "if b > max_age :\n",
    "    max_age = b\n",
    "    max_index = 2\n",
    "if c > max_age :\n",
    "    max_age = c\n",
    "    max_index = 3\n",
    "if d > max_age :\n",
    "    max_age = d\n",
    "    max_index = 4\n",
    "\n",
    "print (max_age,max_index)"
   ]
  },
  {
   "cell_type": "markdown",
   "id": "8b8cd5ce",
   "metadata": {},
   "source": [
    "## BONUS"
   ]
  },
  {
   "cell_type": "markdown",
   "id": "78de408b",
   "metadata": {},
   "source": [
    "### Bài 13: Viết chương trình nhập vào số đo 3 cạnh của tam giác và cho biết đó là tam giác cân, tam giác đều hay tam giác vô hướng\n",
    "Ghi chú:\n",
    " - Tam giác cân là tam giác có 2 cạnh bằng nhau\n",
    " - Tam giác đều là tam giác có 3 cạnh bằng nhau\n",
    " - Tam giác vô hướng là tam giác không có cạnh nào bằng nhau"
   ]
  },
  {
   "cell_type": "code",
   "execution_count": 5,
   "id": "13dcfd68",
   "metadata": {},
   "outputs": [
    {
     "name": "stdin",
     "output_type": "stream",
     "text": [
      "canh thu nhat: 8\n",
      "canh thu hai: 7\n",
      "canh thu ba: 9\n"
     ]
    },
    {
     "name": "stdout",
     "output_type": "stream",
     "text": [
      "tam giac vo huong\n"
     ]
    }
   ],
   "source": [
    "canh_1 = float(input(\"canh thu nhat:\"))\n",
    "canh_2 = float(input(\"canh thu hai:\"))\n",
    "canh_3 = float(input(\"canh thu ba:\"))\n",
    "\n",
    "if canh_1 == canh_2 == canh_3 :\n",
    "    print(\"tam giac deu\")\n",
    "elif canh_1 == canh_2 or canh_1 == canh_3 or canh_2 == canh_3 :\n",
    "    print(\" tam giac can\")\n",
    "else: \n",
    "    print(\"tam giac vo huong\")"
   ]
  },
  {
   "cell_type": "markdown",
   "id": "d3de6fbd",
   "metadata": {},
   "source": [
    "### Bài 14: Viết chương trình nhập vào 3 số nguyên khác nhau và in ra số lớn thứ hai"
   ]
  },
  {
   "cell_type": "code",
   "execution_count": 10,
   "id": "1d2f12a9",
   "metadata": {},
   "outputs": [
    {
     "name": "stdin",
     "output_type": "stream",
     "text": [
      "so thu nhat: 8\n",
      "so thu hai: 5\n",
      "so thu ba: 8\n"
     ]
    },
    {
     "name": "stdout",
     "output_type": "stream",
     "text": [
      "so lon thu 2 la 5\n"
     ]
    }
   ],
   "source": [
    "a = int(input(\"so thu nhat:\"))\n",
    "b = int(input(\"so thu hai:\"))\n",
    "c = int(input(\"so thu ba:\"))\n",
    "\n",
    "if c > a >= b or b > a >= c or c == b > a:\n",
    "    print(f\"so lon thu 2 la {a}\")\n",
    "elif a > b >=c or c > b >= a or a == c > b:\n",
    "    print(f\"so lon thu 2 la {b}\")\n",
    "else :\n",
    "    print(f\"so lon thu 2 la {c}\")\n",
    "    "
   ]
  },
  {
   "attachments": {
    "image.png": {
     "image/png": "[encoded data removed]"
    }
   },
   "cell_type": "markdown",
   "id": "2b12e079",
   "metadata": {},
   "source": [
    "### Bài 15: Xem đoạn code sau:\n",
    "![image.png](attachment:image.png)\n",
    "Nếu i, j, k có các giá trị ban đầu là:\n",
    "\n",
    "a. i = 3, j = 5, k = 7\n",
    "\n",
    "b. i = 13, j = 15, k = 13\n",
    "\n",
    "Thì giá trị của i, j, k sau khi thực hiện đoạn code trên là bao nhiêu?(kiểm tra bằng cách tính nhẩm, không code lại)"
   ]
  },
  {
   "cell_type": "markdown",
   "id": "ce25be77-fb11-48e8-80d2-e354b640d437",
   "metadata": {},
   "source": [
    "a. i = 5, j = 5, k =7\n",
    "b. i = 13, j = 13, k = 13"
   ]
  },
  {
   "cell_type": "markdown",
   "id": "e050841c",
   "metadata": {},
   "source": [
    "### Bài 16: Viết một chương trình thực hiện phép tính đơn giản như sau:\n",
    "```\n",
    "    Nhập số thứ nhất: 16\n",
    "    Nhập số thứ hai: 9\n",
    "    Nhập toán tử (+, -, *, /): +\n",
    "    Kết quả: 16 + 9 = 25\n",
    "```"
   ]
  },
  {
   "cell_type": "code",
   "execution_count": 20,
   "id": "97df7a91-45fa-4895-ae25-cde30bf78121",
   "metadata": {},
   "outputs": [
    {
     "name": "stdin",
     "output_type": "stream",
     "text": [
      "nhap vao toan tu: 5\n"
     ]
    },
    {
     "name": "stdout",
     "output_type": "stream",
     "text": [
      "toan tu ko duoc ho tro\n"
     ]
    }
   ],
   "source": [
    "a = 16\n",
    "b = 9\n",
    "toan_tu = input(\"nhap vao toan tu:\")\n",
    "if toan_tu == \"+\":\n",
    "    print(f\"16 + 9 = {16 + 9}\")\n",
    "elif toan_tu == \"*\":\n",
    "    print(f\"16 * 9 = {16 * 9}\")\n",
    "elif toan_tu == \"/\":\n",
    "    print(f\"16 / 9 = {16 / 9}\")\n",
    "elif toan_tu == \"-\":\n",
    "    print(f\"16 - 9 = {16 - 9}\")\n",
    "else: print(\"toan tu ko duoc ho tro\")"
   ]
  },
  {
   "cell_type": "markdown",
   "id": "8044d943",
   "metadata": {},
   "source": [
    "### Bài 17: Viết chương trình nhập vào 3 số nguyên và in ra màn hình theo thứ tự từ lớn đến bé."
   ]
  },
  {
   "cell_type": "code",
   "execution_count": null,
   "id": "67e51662",
   "metadata": {},
   "outputs": [],
   "source": [
    "a = int(input(\"so thu nhat:\"))\n",
    "b = int(input(\"so thu hai:\"))\n",
    "c = int(input(\"so thu ba:\"))\n",
    "\n",
    "if a >= b >= c :\n",
    "    print(a,b,c)\n",
    "elif b >= a >= c:\n",
    "    print(b,a,c)\n",
    "elif a >= c >= b: \n",
    "    print(a,c,b)\n",
    "elif b >= c >= a:\n",
    "    print(b,c,a)\n",
    "elif c >= a >= b :\n",
    "    print(c,a,b)\n",
    "elif c >= b >= a:\n",
    "    print(c,b,a)"
   ]
  }
 ],
 "metadata": {
  "kernelspec": {
   "display_name": "Python 3 (ipykernel)",
   "language": "python",
   "name": "python3"
  },
  "language_info": {
   "codemirror_mode": {
    "name": "ipython",
    "version": 3
   },
   "file_extension": ".py",
   "mimetype": "text/x-python",
   "name": "python",
   "nbconvert_exporter": "python",
   "pygments_lexer": "ipython3",
   "version": "3.11.4"
  }
 },
 "nbformat": 4,
 "nbformat_minor": 5
}
