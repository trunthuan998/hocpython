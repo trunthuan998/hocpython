{
 "cells": [
  {
   "cell_type": "code",
   "execution_count": 1,
   "id": "586b25df-d3c8-42a1-95aa-29e14d2c4601",
   "metadata": {},
   "outputs": [],
   "source": [
    "import tkinter as tk\n",
    "\n",
    "def clear():\n",
    "    input_field.delete(0, tk.END)\n",
    "\n",
    "def calculate():\n",
    "    try:\n",
    "        expression = input_field.get()\n",
    "        result = eval(expression)\n",
    "        input_field.delete(0, tk.END)\n",
    "        input_field.insert(0, str(result))\n",
    "    except Exception as e:\n",
    "        input_field.delete(0, tk.END)\n",
    "        input_field.insert(0, \"Lỗi\")\n",
    "\n",
    "# Tạo cửa sổ Tkinter\n",
    "root = tk.Tk()\n",
    "root.title(\"Máy tính đơn giản\")\n",
    "\n",
    "# Tạo và định dạng giao diện\n",
    "input_field = tk.Entry(root, width=20)\n",
    "input_field.grid(row=0, column=0, columnspan=4)\n",
    "\n",
    "button_frame = tk.Frame(root)\n",
    "button_frame.grid(row=1, column=0, columnspan=4)\n",
    "\n",
    "buttons = [\n",
    "    '7', '8', '9', '/',\n",
    "    '4', '5', '6', '*',\n",
    "    '1', '2', '3', '-',\n",
    "    '0', 'C', '=', '+'\n",
    "]\n",
    "\n",
    "row_val = 2\n",
    "col_val = 0\n",
    "\n",
    "for button in buttons:\n",
    "    tk.Button(\n",
    "        button_frame,\n",
    "        text=button,\n",
    "        padx=20,\n",
    "        pady=20,\n",
    "        command=lambda b=button: input_field.insert(tk.END, b) if b != \"=\" else calculate() if b == \"=\" else clear()\n",
    "    ).grid(row=row_val, column=col_val)\n",
    "    col_val += 1\n",
    "    if col_val > 3:\n",
    "        col_val = 0\n",
    "        row_val += 1\n",
    "\n",
    "# Chạy chương trình\n",
    "root.mainloop()\n"
   ]
  }
 ],
 "metadata": {
  "kernelspec": {
   "display_name": "Python 3 (ipykernel)",
   "language": "python",
   "name": "python3"
  },
  "language_info": {
   "codemirror_mode": {
    "name": "ipython",
    "version": 3
   },
   "file_extension": ".py",
   "mimetype": "text/x-python",
   "name": "python",
   "nbconvert_exporter": "python",
   "pygments_lexer": "ipython3",
   "version": "3.11.4"
  }
 },
 "nbformat": 4,
 "nbformat_minor": 5
}
