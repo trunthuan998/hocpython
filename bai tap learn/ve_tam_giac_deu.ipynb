{
 "cells": [
  {
   "cell_type": "code",
   "execution_count": null,
   "id": "c722d783-ed3c-41af-ab3c-96872048819a",
   "metadata": {},
   "outputs": [],
   "source": [
    "import turtle\n",
    "so_do_canh = float(input(\"nhập chiều dài cạnh tam giác đều: \"))\n",
    "def get_color_input():\n",
    "    a = input(\"màu: \")\n",
    "    return a\n",
    "user_color = get_color_input()\n",
    "\n",
    "p = turtle.Turtle()\n",
    "p.pencolor(user_color)\n",
    "p.fillcolor(user_color)\n",
    "\n",
    "p.begin_fill()\n",
    "for i in range(3):\n",
    " p.forward(so_do_canh)\n",
    " p.right(120)\n",
    "p.end_fill()\n",
    "\n",
    "turtle.done()"
   ]
  },
  {
   "cell_type": "code",
   "execution_count": null,
   "id": "3156878a-31e3-4e91-9a18-ed69626a4bcf",
   "metadata": {},
   "outputs": [],
   "source": []
  }
 ],
 "metadata": {
  "kernelspec": {
   "display_name": "Python 3 (ipykernel)",
   "language": "python",
   "name": "python3"
  },
  "language_info": {
   "codemirror_mode": {
    "name": "ipython",
    "version": 3
   },
   "file_extension": ".py",
   "mimetype": "text/x-python",
   "name": "python",
   "nbconvert_exporter": "python",
   "pygments_lexer": "ipython3",
   "version": "3.11.4"
  }
 },
 "nbformat": 4,
 "nbformat_minor": 5
}
