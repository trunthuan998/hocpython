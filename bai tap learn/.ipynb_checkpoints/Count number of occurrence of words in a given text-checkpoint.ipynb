{
 "cells": [
  {
   "cell_type": "code",
   "execution_count": null,
   "id": "cfa8f36e-a96d-4fc2-981b-0c30d6292bd1",
   "metadata": {},
   "outputs": [],
   "source": [
    "# Văn bản đã cho\n",
    "text = \"\"\"\n",
    "nguyen trung thuan thuan\n",
    "\"\"\"\n",
    "\n",
    "# Chuyển đổi văn bản thành chữ thường để đảm bảo tính nhất quán trong việc so sánh từ\n",
    "text = text.lower()\n",
    "\n",
    "# Từ cần đếm số lần xuất hiện\n",
    "word_to_count = \"thuan\"\n",
    "\n",
    "# Sử dụng phương thức count() để đếm số lần xuất hiện của từ\n",
    "count = text.count(word_to_count)\n",
    "\n",
    "# In kết quả\n",
    "print(f\"Số lần từ '{word_to_count}' xuất hiện trong văn bản là: {count}\")\n"
   ]
  }
 ],
 "metadata": {
  "kernelspec": {
   "display_name": "Python 3 (ipykernel)",
   "language": "python",
   "name": "python3"
  },
  "language_info": {
   "codemirror_mode": {
    "name": "ipython",
    "version": 3
   },
   "file_extension": ".py",
   "mimetype": "text/x-python",
   "name": "python",
   "nbconvert_exporter": "python",
   "pygments_lexer": "ipython3",
   "version": "3.11.4"
  }
 },
 "nbformat": 4,
 "nbformat_minor": 5
}
