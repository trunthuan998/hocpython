{
 "cells": [
  {
   "cell_type": "code",
   "execution_count": null,
   "id": "6d713fe8-8381-4813-8b2a-6c052ff3c3fe",
   "metadata": {},
   "outputs": [],
   "source": [
    "can_nang = float(input(\"cân nặng (kg): \"))\n",
    "chieu_cao = float(input(\"chiều cao (m): \"))\n",
    "\n",
    "# số nhập vào phải lớn hơn 0\n",
    "if can_nang > 0 and chieu_cao > 0:\n",
    "    # tính chỉ số BMI  \n",
    "    BMI = can_nang / (chieu_cao**2)\n",
    "    # xếp loại thể trạng\n",
    "    if BMI > 40:\n",
    "        print(\"Béo phì cấp độ III\")\n",
    "    elif BMI < 40 and BMI >= 35:\n",
    "        print(\"Béo phì cấp độ II\")\n",
    "    elif BMI >= 30:\n",
    "        print(\"Béo phì cấp độ I\") \n",
    "    elif BMI >= 25:\n",
    "        print(\"thừa cân\")\n",
    "    elif BMI >= 18.5:\n",
    "        print(\"bình thường\")\n",
    "    elif BMI >= 17:\n",
    "        print(\"gầy cấp độ I\")\n",
    "    elif BMI >= 16:\n",
    "        print(\"gầy cấp độ II\")\n",
    "    else:\n",
    "        print(\"gầy cấp độ III\")\n",
    "else:\n",
    "    print(\"số bạn nhập không đúng\")\n"
   ]
  },
  {
   "cell_type": "code",
   "execution_count": null,
   "id": "99607f22-8322-46df-883d-7b36f2090141",
   "metadata": {},
   "outputs": [],
   "source": []
  }
 ],
 "metadata": {
  "kernelspec": {
   "display_name": "Python 3 (ipykernel)",
   "language": "python",
   "name": "python3"
  },
  "language_info": {
   "codemirror_mode": {
    "name": "ipython",
    "version": 3
   },
   "file_extension": ".py",
   "mimetype": "text/x-python",
   "name": "python",
   "nbconvert_exporter": "python",
   "pygments_lexer": "ipython3",
   "version": "3.11.4"
  }
 },
 "nbformat": 4,
 "nbformat_minor": 5
}
