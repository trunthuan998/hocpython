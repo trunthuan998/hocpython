{
 "cells": [
  {
   "cell_type": "code",
   "execution_count": 16,
   "id": "421c25c6-f40e-4b44-8a3c-f0f6d2ba31b1",
   "metadata": {},
   "outputs": [
    {
     "name": "stdin",
     "output_type": "stream",
     "text": [
      "nhập 1 số tự nhiên từ 1 đến 7:  7\n"
     ]
    },
    {
     "name": "stdout",
     "output_type": "stream",
     "text": [
      "Sunday\n"
     ]
    }
   ],
   "source": [
    "so_duoc_nhap = float(input(\"nhập 1 số tự nhiên từ 1 đến 7: \"))\n",
    "if so_duoc_nhap == 1:\n",
    "    print(\"Monday\")\n",
    "elif so_duoc_nhap == 2:\n",
    "    print(\"Tuesday\")\n",
    "elif so_duoc_nhap == 3:\n",
    "    print(\"Wednesday\")\n",
    "elif so_duoc_nhap == 4:\n",
    "    print(\"Thursday\")\n",
    "elif so_duoc_nhap == 5:\n",
    "    print(\"Friday\")\n",
    "elif so_duoc_nhap == 6:\n",
    "    print(\"Saturday\")\n",
    "elif so_duoc_nhap == 7:\n",
    "    print(\"Sunday\")\n",
    "else:\n",
    "    print(\"error, out of range\")"
   ]
  }
 ],
 "metadata": {
  "kernelspec": {
   "display_name": "Python 3 (ipykernel)",
   "language": "python",
   "name": "python3"
  },
  "language_info": {
   "codemirror_mode": {
    "name": "ipython",
    "version": 3
   },
   "file_extension": ".py",
   "mimetype": "text/x-python",
   "name": "python",
   "nbconvert_exporter": "python",
   "pygments_lexer": "ipython3",
   "version": "3.11.4"
  }
 },
 "nbformat": 4,
 "nbformat_minor": 5
}
