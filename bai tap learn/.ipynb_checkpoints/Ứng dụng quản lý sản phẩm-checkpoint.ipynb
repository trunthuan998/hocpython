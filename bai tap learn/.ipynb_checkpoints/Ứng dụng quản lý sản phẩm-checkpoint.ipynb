{
 "cells": [
  {
   "cell_type": "code",
   "execution_count": null,
   "id": "93ab0284-0c5d-4257-ac93-22928d90aefe",
   "metadata": {},
   "outputs": [],
   "source": [
    "# Khởi tạo danh sách sản phẩm rỗng\n",
    "products = []\n",
    "\n",
    "def display_products():\n",
    "    print(\"Danh sách sản phẩm:\")\n",
    "    for i, product in enumerate(products, start=1):\n",
    "        print(f\"{i}. {product}\")\n",
    "\n",
    "def add_product():\n",
    "    product_name = input(\"Nhập tên sản phẩm mới: \")\n",
    "    products.append(product_name)\n",
    "    print(f\"Sản phẩm '{product_name}' đã được thêm vào danh sách.\")\n",
    "\n",
    "def edit_product():\n",
    "    display_products()\n",
    "    index = int(input(\"Nhập số thứ tự của sản phẩm bạn muốn sửa: \")) - 1\n",
    "    if 0 <= index < len(products):\n",
    "        new_name = input(\"Nhập tên mới cho sản phẩm: \")\n",
    "        products[index] = new_name\n",
    "        print(f\"Sản phẩm đã được sửa thành: '{new_name}'\")\n",
    "    else:\n",
    "        print(\"Số thứ tự không hợp lệ.\")\n",
    "\n",
    "def delete_product():\n",
    "    display_products()\n",
    "    index = int(input(\"Nhập số thứ tự của sản phẩm bạn muốn xoá: \")) - 1\n",
    "    if 0 <= index < len(products):\n",
    "        deleted_product = products.pop(index)\n",
    "        print(f\"Sản phẩm '{deleted_product}' đã được xoá khỏi danh sách.\")\n",
    "    else:\n",
    "        print(\"Số thứ tự không hợp lệ.\")\n",
    "\n",
    "while True:\n",
    "    print(\"\\nChọn chức năng:\")\n",
    "    print(\"1. Hiển thị danh sách sản phẩm\")\n",
    "    print(\"2. Thêm sản phẩm mới\")\n",
    "    print(\"3. Sửa tên sản phẩm\")\n",
    "    print(\"4. Xoá sản phẩm\")\n",
    "    print(\"5. Thoát\")\n",
    "    \n",
    "    choice = input(\"Nhập lựa chọn của bạn: \")\n",
    "    \n",
    "    if choice == '1':\n",
    "        display_products()\n",
    "    elif choice == '2':\n",
    "        add_product()\n",
    "    elif choice == '3':\n",
    "        edit_product()\n",
    "    elif choice == '4':\n",
    "        delete_product()\n",
    "    elif choice == '5':\n",
    "        break\n",
    "    else:\n",
    "        print(\"Lựa chọn không hợp lệ. Hãy chọn từ 1 đến 5.\")\n"
   ]
  }
 ],
 "metadata": {
  "kernelspec": {
   "display_name": "Python 3 (ipykernel)",
   "language": "python",
   "name": "python3"
  },
  "language_info": {
   "codemirror_mode": {
    "name": "ipython",
    "version": 3
   },
   "file_extension": ".py",
   "mimetype": "text/x-python",
   "name": "python",
   "nbconvert_exporter": "python",
   "pygments_lexer": "ipython3",
   "version": "3.11.4"
  }
 },
 "nbformat": 4,
 "nbformat_minor": 5
}
