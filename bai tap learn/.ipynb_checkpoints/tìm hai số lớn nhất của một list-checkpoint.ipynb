{
 "cells": [
  {
   "cell_type": "code",
   "execution_count": 1,
   "id": "a0a74181-36a3-46ca-8498-4d029332a121",
   "metadata": {},
   "outputs": [
    {
     "name": "stdout",
     "output_type": "stream",
     "text": [
      "Hai số lớn nhất trong list là: 89 và 67\n"
     ]
    }
   ],
   "source": [
    "def find_two_largest(numbers):\n",
    "    if len(numbers) < 2:\n",
    "        return \"List cần ít nhất 2 số để tìm hai số lớn nhất.\"\n",
    "\n",
    "    max1 = max2 = float('-inf')  # Khởi tạo hai số lớn nhất là giá trị âm vô cùng\n",
    "\n",
    "    for num in numbers:\n",
    "        if num > max1:\n",
    "            max2 = max1  # Lưu giá trị của max1 vào max2\n",
    "            max1 = num   # Cập nhật max1\n",
    "        elif num > max2 and num != max1:\n",
    "            max2 = num   # Cập nhật max2\n",
    "\n",
    "    if max2 == float('-inf'):\n",
    "        return \"Không có hai số lớn nhất vì tất cả các số trong list giống nhau.\"\n",
    "    \n",
    "    return max1, max2\n",
    "\n",
    "# Khởi tạo list\n",
    "my_list = [12, 45, 7, 23, 56, 34, 89, 67, 8, 56]\n",
    "\n",
    "result = find_two_largest(my_list)\n",
    "if isinstance(result, tuple):\n",
    "    max1, max2 = result\n",
    "    print(f\"Hai số lớn nhất trong list là: {max1} và {max2}\")\n",
    "else:\n",
    "    print(result)\n"
   ]
  }
 ],
 "metadata": {
  "kernelspec": {
   "display_name": "Python 3 (ipykernel)",
   "language": "python",
   "name": "python3"
  },
  "language_info": {
   "codemirror_mode": {
    "name": "ipython",
    "version": 3
   },
   "file_extension": ".py",
   "mimetype": "text/x-python",
   "name": "python",
   "nbconvert_exporter": "python",
   "pygments_lexer": "ipython3",
   "version": "3.11.4"
  }
 },
 "nbformat": 4,
 "nbformat_minor": 5
}
