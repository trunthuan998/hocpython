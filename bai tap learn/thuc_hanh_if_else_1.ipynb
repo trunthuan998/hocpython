{
 "cells": [
  {
   "cell_type": "markdown",
   "id": "92d705a3-fee1-470f-8cbd-49fcaf92e6fd",
   "metadata": {},
   "source": [
    "# cach 1"
   ]
  },
  {
   "cell_type": "code",
   "execution_count": 31,
   "id": "c8ce5a77-aeb2-4f76-a6aa-7a40dbf94a3f",
   "metadata": {},
   "outputs": [],
   "source": [
    "import turtle\n",
    "p = turtle.Turtle()\n",
    "\n",
    "# nhap gia tri cho cac bien\n",
    "hinh_muon_ve = turtle.textinput(\"hinh\",\"Nhap hinh ban muon ve: \")\n",
    "if hinh_muon_ve == \"vuong\":\n",
    "    kich_thuoc_canh = float(turtle.textinput(\"kinh thuoc\",\"Nhap vao kich thuoc canh: \"))\n",
    "    def mau_muon_ve():\n",
    "        mau = turtle.textinput(\"mau\",\"mau ban muon ve: \")\n",
    "        return mau\n",
    "    p.pencolor(mau_muon_ve())\n",
    "    for i in range(4):\n",
    "        p.forward(kich_thuoc_canh)\n",
    "        p.right(90)\n",
    "    turtle.done()\n",
    "elif hinh_muon_ve == \"tron\":\n",
    "     kich_thuoc_r = float(turtle.textinput(\"ban kinh\",\"Nhap vao kich thuoc r: \"))\n",
    "     def mau_muon_ve():\n",
    "         mau = turtle.textinput(\"mau\",\"mau ban muon ve: \")\n",
    "         return mau\n",
    "     p.pencolor(mau_muon_ve())\n",
    "     p.circle(kich_thuoc_r)\n",
    "     turtle.done()\n",
    "else:\n",
    "    print(\"Hinh ve khong duoc ho tro\")\n",
    "    "
   ]
  },
  {
   "cell_type": "markdown",
   "id": "43f4819c-046a-446a-86b7-3d93906ded0e",
   "metadata": {},
   "source": [
    "# cach 2"
   ]
  },
  {
   "cell_type": "code",
   "execution_count": null,
   "id": "2bb0a273-fd43-4878-a27f-9ba839e4db8b",
   "metadata": {},
   "outputs": [],
   "source": [
    "import turtle\n",
    "p = turtle.Turtle()\n",
    "\n",
    "# nhap hinh dang\n",
    "hinh_muon_ve = turtle.textinput(\"hinh\",\"Nhap hinh ban muon ve: \")\n",
    "if hinh_muon_ve == \"vuong\" or hinh_muon_ve == \"tron\":\n",
    "    \n",
    "    # nhap kich thuoc va mau sac\n",
    "    kich_thuoc = float(turtle.textinput(\"kinh thuoc\",\"Nhap vao kich thuoc canh hoac r: \"))\n",
    "    def mau_muon_ve():\n",
    "        mau = turtle.textinput(\"mau\",\"mau ban muon ve: \")\n",
    "        return mau\n",
    "    user_color = mau_muon_ve()\n",
    "    p.pencolor(user_color)\n",
    "    p.fillcolor(user_color)\n",
    "    p.begin_fill()\n",
    "    \n",
    "    # ve hinh \n",
    "    if hinh_muon_ve == \"vuong\":\n",
    "        for i in range(4):\n",
    "            p.forward(kich_thuoc)\n",
    "            p.right(90)\n",
    "    elif hinh_muon_ve == \"tron\":\n",
    "     p.circle(kich_thuoc)\n",
    "        \n",
    "    p.end_fill()\n",
    "    turtle.done()\n",
    "else:\n",
    "    print(\"Hinh ve khong duoc ho tro\")"
   ]
  }
 ],
 "metadata": {
  "kernelspec": {
   "display_name": "Python 3 (ipykernel)",
   "language": "python",
   "name": "python3"
  },
  "language_info": {
   "codemirror_mode": {
    "name": "ipython",
    "version": 3
   },
   "file_extension": ".py",
   "mimetype": "text/x-python",
   "name": "python",
   "nbconvert_exporter": "python",
   "pygments_lexer": "ipython3",
   "version": "3.11.4"
  }
 },
 "nbformat": 4,
 "nbformat_minor": 5
}
