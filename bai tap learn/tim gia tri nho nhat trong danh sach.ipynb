{
 "cells": [
  {
   "cell_type": "code",
   "execution_count": 1,
   "id": "5c0e7f2e-6c59-4cd0-97e9-271c3f122a20",
   "metadata": {},
   "outputs": [
    {
     "data": {
      "text/plain": [
       "1"
      ]
     },
     "execution_count": 1,
     "metadata": {},
     "output_type": "execute_result"
    }
   ],
   "source": [
    "def find_min(list):\n",
    "    rs = list[0]\n",
    "    for i in list:\n",
    "        if i < rs:\n",
    "            rs = i\n",
    "    return rs\n",
    "list_1 = [7,8,9,5,7,1,2,4]\n",
    "find_min(list_1)"
   ]
  }
 ],
 "metadata": {
  "kernelspec": {
   "display_name": "Python 3 (ipykernel)",
   "language": "python",
   "name": "python3"
  },
  "language_info": {
   "codemirror_mode": {
    "name": "ipython",
    "version": 3
   },
   "file_extension": ".py",
   "mimetype": "text/x-python",
   "name": "python",
   "nbconvert_exporter": "python",
   "pygments_lexer": "ipython3",
   "version": "3.11.4"
  }
 },
 "nbformat": 4,
 "nbformat_minor": 5
}
