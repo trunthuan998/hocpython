{
 "cells": [
  {
   "cell_type": "code",
   "execution_count": 2,
   "id": "0fc4fd19-65e4-42c5-9c2b-fe4efaabc541",
   "metadata": {},
   "outputs": [
    {
     "name": "stdout",
     "output_type": "stream",
     "text": [
      "Current number: 0\n",
      "Current number: 0\n"
     ]
    },
    {
     "name": "stdin",
     "output_type": "stream",
     "text": [
      "Enter your choice (1, 2, or 3):  2\n"
     ]
    },
    {
     "name": "stdout",
     "output_type": "stream",
     "text": [
      "Current number: 2\n",
      "Computer chooses: 1\n",
      "Current number: 3\n"
     ]
    },
    {
     "name": "stdin",
     "output_type": "stream",
     "text": [
      "Enter your choice (1, 2, or 3):  2\n"
     ]
    },
    {
     "name": "stdout",
     "output_type": "stream",
     "text": [
      "Current number: 5\n",
      "Computer chooses: 2\n",
      "Current number: 7\n"
     ]
    },
    {
     "name": "stdin",
     "output_type": "stream",
     "text": [
      "Enter your choice (1, 2, or 3):  3\n"
     ]
    },
    {
     "name": "stdout",
     "output_type": "stream",
     "text": [
      "Current number: 10\n",
      "Computer chooses: 1\n",
      "Current number: 11\n"
     ]
    },
    {
     "name": "stdin",
     "output_type": "stream",
     "text": [
      "Enter your choice (1, 2, or 3):  3\n"
     ]
    },
    {
     "name": "stdout",
     "output_type": "stream",
     "text": [
      "Current number: 14\n",
      "Computer chooses: 1\n",
      "Current number: 15\n"
     ]
    },
    {
     "name": "stdin",
     "output_type": "stream",
     "text": [
      "Enter your choice (1, 2, or 3):  2\n"
     ]
    },
    {
     "name": "stdout",
     "output_type": "stream",
     "text": [
      "Current number: 17\n",
      "Computer chooses: 3\n",
      "Current number: 20\n"
     ]
    },
    {
     "name": "stdin",
     "output_type": "stream",
     "text": [
      "Enter your choice (1, 2, or 3):  1\n"
     ]
    },
    {
     "name": "stdout",
     "output_type": "stream",
     "text": [
      "Current number: 21\n",
      "You lose!\n"
     ]
    },
    {
     "name": "stdin",
     "output_type": "stream",
     "text": [
      "Do you want to play again? (y/n):  2\n"
     ]
    }
   ],
   "source": [
    "import random\n",
    "\n",
    "while True:\n",
    "    current_number = 0\n",
    "    current_player = \"\"\n",
    "    \n",
    "    while current_number <= 21:\n",
    "        print(f\"Current number: {current_number}\")\n",
    "        \n",
    "        if current_player == \"human\":\n",
    "            player_choice = \"\"\n",
    "            while player_choice not in ['1', '2', '3']:\n",
    "                player_choice = input(\"Enter your choice (1, 2, or 3): \")\n",
    "            player_choice = int(player_choice)\n",
    "            current_number += player_choice\n",
    "            \n",
    "            if current_number >= 21:\n",
    "                print(f\"Current number: {current_number}\")\n",
    "                print(\"You lose!\")\n",
    "                break\n",
    "            else:\n",
    "                current_player = \"computer\"\n",
    "        \n",
    "        elif current_player == \"computer\":\n",
    "            computer_choice = random.randint(1, 3)\n",
    "            print(f\"Computer chooses: {computer_choice}\")\n",
    "            current_number += computer_choice\n",
    "            \n",
    "            if current_number >= 21:\n",
    "                print(f\"Current number: {current_number}\")\n",
    "                print(\"you win!\")\n",
    "                break\n",
    "            else:\n",
    "                current_player = \"human\"\n",
    "        \n",
    "        else:\n",
    "            current_player = \"human\"\n",
    "    \n",
    "    play_again = input(\"Do you want to play again? (y/n): \")\n",
    "    if not play_again.startswith(\"y\"):\n",
    "        break\n",
    "\n",
    "            \n",
    "             \n",
    "    \n",
    "    \n",
    "    "
   ]
  }
 ],
 "metadata": {
  "kernelspec": {
   "display_name": "Python 3 (ipykernel)",
   "language": "python",
   "name": "python3"
  },
  "language_info": {
   "codemirror_mode": {
    "name": "ipython",
    "version": 3
   },
   "file_extension": ".py",
   "mimetype": "text/x-python",
   "name": "python",
   "nbconvert_exporter": "python",
   "pygments_lexer": "ipython3",
   "version": "3.11.4"
  }
 },
 "nbformat": 4,
 "nbformat_minor": 5
}
