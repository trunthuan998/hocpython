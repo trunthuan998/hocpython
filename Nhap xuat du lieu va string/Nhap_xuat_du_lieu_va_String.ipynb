{
 "cells": [
  {
   "cell_type": "markdown",
   "id": "7ac14915",
   "metadata": {},
   "source": [
    "# Nhập xuất dữ liệu và String\n",
    "## Cách nhập xuất dữ liệu"
   ]
  },
  {
   "cell_type": "markdown",
   "id": "0f202ae8",
   "metadata": {},
   "source": [
    "### Xuất dữ liệu ra màn hình\n",
    "Để in các nội dung mà chúng ta mong muốn ra màn hình, ta sử dụng lệnh print()"
   ]
  },
  {
   "cell_type": "code",
   "execution_count": 1,
   "id": "a6d3f260",
   "metadata": {},
   "outputs": [
    {
     "name": "stdout",
     "output_type": "stream",
     "text": [
      "python is very easy\n"
     ]
    }
   ],
   "source": [
    "# Ví dụ: In ra nội dung \"python is very easy\"\n",
    "print(\"python is very easy\")\n"
   ]
  },
  {
   "cell_type": "markdown",
   "id": "7733925a",
   "metadata": {},
   "source": [
    "### Các cách custom với lệnh print"
   ]
  },
  {
   "cell_type": "markdown",
   "id": "292ab570",
   "metadata": {},
   "source": [
    "Để in một nội dung kèm theo giá trị của biến, ta có các cách sau:"
   ]
  },
  {
   "cell_type": "code",
   "execution_count": 15,
   "id": "20ff912c",
   "metadata": {},
   "outputs": [
    {
     "name": "stdout",
     "output_type": "stream",
     "text": [
      "i love chocolate and i hate sandwich\n"
     ]
    }
   ],
   "source": [
    "food_1 = \"chocolate\"\n",
    "food_2 = \"sandwich\"\n",
    "print(\"i love\",food_1,\"and i hate\",food_2)"
   ]
  },
  {
   "cell_type": "code",
   "execution_count": null,
   "id": "6407a448",
   "metadata": {},
   "outputs": [],
   "source": [
    "# In trực tiếp"
   ]
  },
  {
   "cell_type": "code",
   "execution_count": 19,
   "id": "27d098b8",
   "metadata": {},
   "outputs": [
    {
     "name": "stdout",
     "output_type": "stream",
     "text": [
      "i love+chocolate+and i hate+sandwich\n"
     ]
    }
   ],
   "source": [
    "# In bằng cách ghép các nội dung với nhau\n",
    "print(\"i love\",food_1,\"and i hate\",food_2, sep=\"+\")"
   ]
  },
  {
   "cell_type": "code",
   "execution_count": 20,
   "id": "717666f2",
   "metadata": {},
   "outputs": [
    {
     "name": "stdout",
     "output_type": "stream",
     "text": [
      "i love chocolate and i hate sandwich\n"
     ]
    }
   ],
   "source": [
    "# Sử dụng String Format\n",
    "print(f\"i love {food_1} and i hate {food_2}\")"
   ]
  },
  {
   "cell_type": "code",
   "execution_count": 24,
   "id": "c7276e05",
   "metadata": {},
   "outputs": [
    {
     "name": "stdout",
     "output_type": "stream",
     "text": [
      "i love +chocolate\n",
      "and i love \n",
      "sandwich\n"
     ]
    }
   ],
   "source": [
    "# Sử dụng nhiều lệnh print\n",
    "print(\"i love \", end = \"+\")\n",
    "print(food_1)\n",
    "print(\"and i love \")\n",
    "print(food_2)"
   ]
  },
  {
   "cell_type": "markdown",
   "id": "e10788fb",
   "metadata": {},
   "source": [
    "### Nhập dữ liệu\n",
    "Để nhập dữ liệu vào chương trình python, chúng ta sử dụng hàm input()"
   ]
  },
  {
   "cell_type": "code",
   "execution_count": 26,
   "id": "b8b8afd3",
   "metadata": {},
   "outputs": [
    {
     "name": "stdin",
     "output_type": "stream",
     "text": [
      "please enter your name:  thuan\n"
     ]
    },
    {
     "name": "stdout",
     "output_type": "stream",
     "text": [
      "thuan\n",
      "<class 'str'>\n"
     ]
    }
   ],
   "source": [
    "name = input(\"please enter your name: \")\n",
    "print(name)\n",
    "print(type(name))"
   ]
  },
  {
   "cell_type": "code",
   "execution_count": 29,
   "id": "d63afb54-192c-4531-9c43-da6f8d6a5de9",
   "metadata": {},
   "outputs": [
    {
     "name": "stdin",
     "output_type": "stream",
     "text": [
      "please enter a month:  3\n"
     ]
    },
    {
     "name": "stdout",
     "output_type": "stream",
     "text": [
      "3\n",
      "<class 'int'>\n"
     ]
    }
   ],
   "source": [
    "month = int(input(\"please enter a month: \")) # ep kieu\n",
    "print(month)\n",
    "print(type(month))"
   ]
  },
  {
   "cell_type": "markdown",
   "id": "337f9c15",
   "metadata": {},
   "source": [
    "#### Thực hành: Viết chương trình nhập vào chiều dài và chiều rộng của hình chữ nhật, sau đó in ra chu vi và diện tích của hình chữ nhật đó"
   ]
  },
  {
   "cell_type": "code",
   "execution_count": 34,
   "id": "add68103",
   "metadata": {},
   "outputs": [
    {
     "name": "stdin",
     "output_type": "stream",
     "text": [
      "nhap chieu dai:  4\n",
      "nhap chieu rong:  2\n"
     ]
    }
   ],
   "source": [
    "# Nhập các kích thước của hình chữ nhật\n",
    "chieu_dai = float(input(\"nhap chieu dai: \"))\n",
    "chieu_rong = float(input(\"nhap chieu rong: \"))\n"
   ]
  },
  {
   "cell_type": "code",
   "execution_count": 35,
   "id": "7a1cd73e",
   "metadata": {},
   "outputs": [],
   "source": [
    "# Tính toán chu vi, diện tích\n",
    "chu_vi = (chieu_dai + chieu_rong)*2\n",
    "dien_tich = chieu_dai*chieu_rong"
   ]
  },
  {
   "cell_type": "code",
   "execution_count": 43,
   "id": "d0adf735",
   "metadata": {},
   "outputs": [
    {
     "name": "stdout",
     "output_type": "stream",
     "text": [
      "chu vi la 12.0 va dien tich la 8.0\n"
     ]
    }
   ],
   "source": [
    "# In kết quả ra màn hình bằng 3 cách\n",
    "print(f\"chu vi la {chu_vi} va dien tich la {dien_tich}\")"
   ]
  },
  {
   "cell_type": "markdown",
   "id": "fb54cb77",
   "metadata": {},
   "source": [
    "#### Thực hành: Viết chương trình nhập vào số đo cạnh và mã màu của tam giác đều, sau đó sử dụng turtle để vẽ ra hình tam giác có số đo và màu tương ứng"
   ]
  },
  {
   "cell_type": "code",
   "execution_count": 4,
   "id": "7583b308",
   "metadata": {},
   "outputs": [
    {
     "name": "stdin",
     "output_type": "stream",
     "text": [
      "nhập chiều dài cạnh tam giác đều:  100\n"
     ]
    }
   ],
   "source": [
    "import turtle\n",
    "so_do_canh = float(input(\"nhập chiều dài cạnh tam giác đều: \"))\n",
    "def get_color_input():\n",
    "    color = turtle.textinput(\"Màu\", \"Nhập tên màu:\")\n",
    "    return color\n",
    "user_color = get_color_input()\n",
    "\n",
    "p = turtle.Turtle()\n",
    "p.pencolor(user_color)\n",
    "p.fillcolor(user_color)\n",
    "\n",
    "p.begin_fill()\n",
    "for i in range(3):\n",
    " p.forward(so_do_canh)\n",
    " p.right(120)\n",
    "p.end_fill()\n",
    "\n",
    "turtle.done()"
   ]
  },
  {
   "cell_type": "markdown",
   "id": "fa7cb208",
   "metadata": {},
   "source": [
    "## Cú pháp import"
   ]
  },
  {
   "cell_type": "markdown",
   "id": "ab2a2ea5",
   "metadata": {},
   "source": [
    "Để sử dụng một module từ bên ngoài, chúng ta sẽ sử dụng từ khóa import. Sau đây là ví dụ về một số cách import phổ biến."
   ]
  },
  {
   "cell_type": "markdown",
   "id": "bd6de377",
   "metadata": {},
   "source": [
    "### Random một giá trị ngẫu nhiên"
   ]
  },
  {
   "cell_type": "code",
   "execution_count": null,
   "id": "ce5547f5",
   "metadata": {},
   "outputs": [],
   "source": []
  },
  {
   "cell_type": "markdown",
   "id": "dfa93dc0",
   "metadata": {},
   "source": [
    "### Thực hiện các phép toán số học"
   ]
  },
  {
   "cell_type": "code",
   "execution_count": 8,
   "id": "4f06f722",
   "metadata": {},
   "outputs": [],
   "source": [
    "# import toàn bộ module"
   ]
  },
  {
   "cell_type": "code",
   "execution_count": null,
   "id": "6b9e471b",
   "metadata": {},
   "outputs": [],
   "source": [
    "# import một phần trong module"
   ]
  },
  {
   "cell_type": "markdown",
   "id": "391969e7",
   "metadata": {},
   "source": [
    "## Xử lý String trong python"
   ]
  },
  {
   "cell_type": "markdown",
   "id": "ab461669",
   "metadata": {},
   "source": [
    "### String là gì?\n",
    "String là một chuỗi gồm các ký tự Unicode"
   ]
  },
  {
   "cell_type": "markdown",
   "id": "94a27b90",
   "metadata": {},
   "source": [
    "### Khởi tạo một string"
   ]
  },
  {
   "cell_type": "code",
   "execution_count": null,
   "id": "b14f4fcc",
   "metadata": {},
   "outputs": [],
   "source": [
    "# one-line string\n",
    "course_name = \"python fundamental\""
   ]
  },
  {
   "cell_type": "code",
   "execution_count": 49,
   "id": "9cc506a7",
   "metadata": {},
   "outputs": [
    {
     "name": "stdout",
     "output_type": "stream",
     "text": [
      "thuan\n",
      "hoc vien Python\n"
     ]
    }
   ],
   "source": [
    "# multi-line string\n",
    "instruction = \"\"\"thuan\n",
    "hoc vien Python\"\"\"\n",
    "print(instruction)"
   ]
  },
  {
   "cell_type": "markdown",
   "id": "8f4270fd",
   "metadata": {},
   "source": [
    "### Các thao tác phổ biến với string"
   ]
  },
  {
   "cell_type": "code",
   "execution_count": 50,
   "id": "c825f890",
   "metadata": {},
   "outputs": [
    {
     "name": "stdout",
     "output_type": "stream",
     "text": [
      "5\n"
     ]
    }
   ],
   "source": [
    "# Kiểm tra độ dài string\n",
    "content = \"thuan\"\n",
    "print(len(content))"
   ]
  },
  {
   "cell_type": "code",
   "execution_count": 53,
   "id": "9bea0bb0-38e6-42f1-84d1-db048a3d5a43",
   "metadata": {
    "scrolled": true
   },
   "outputs": [
    {
     "name": "stdout",
     "output_type": "stream",
     "text": [
      "x\n",
      "o\n"
     ]
    }
   ],
   "source": [
    "content = \"xoxxoox\"\n",
    "print(content[2]) # truy cap trong str\n",
    "print(content[-2]) # truy cap dao nguoc"
   ]
  },
  {
   "cell_type": "code",
   "execution_count": null,
   "id": "6de96621",
   "metadata": {},
   "outputs": [],
   "source": [
    "# Truy xuất ký tự bằng cơ chế indexing và reverse indexing"
   ]
  },
  {
   "cell_type": "markdown",
   "id": "a4f949d9",
   "metadata": {},
   "source": [
    "#### Thực hành: Viết chương trình nhập vào một chuỗi bất kỳ, sau đó in ra ký tự đầu tiên và ký tự cuối cùng của chuỗi đó."
   ]
  },
  {
   "cell_type": "code",
   "execution_count": 62,
   "id": "14833f18",
   "metadata": {},
   "outputs": [
    {
     "name": "stdin",
     "output_type": "stream",
     "text": [
      "nhap so dien thoai:  84854+54+9\n"
     ]
    },
    {
     "name": "stdout",
     "output_type": "stream",
     "text": [
      "so dau tien 8\n",
      "so cuoi 9\n"
     ]
    }
   ],
   "source": [
    "so_dien_thoai = input(\"nhap so dien thoai: \")\n",
    "print(\"so dau tien\",so_dien_thoai[0])\n",
    "print(\"so cuoi\",so_dien_thoai[-1])"
   ]
  },
  {
   "cell_type": "code",
   "execution_count": 10,
   "id": "9aad2f16",
   "metadata": {},
   "outputs": [
    {
     "name": "stdout",
     "output_type": "stream",
     "text": [
      "+7\n",
      "thuan,vpi\n",
      "thuan\n",
      "tun\n",
      "7+,gnoud iah,8991,ipv,nauht\n"
     ]
    }
   ],
   "source": [
    "# Cắt string theo index\n",
    "content = \"thuan,vpi,1998,hai duong,+7\"\n",
    "print(content[-2:])\n",
    "print(content[:9])\n",
    "print(content[0:5])\n",
    "print(content[0:5:2]) # buoc nhay 2 trong khoan tu 0 den 4,trong mac dinh step la 1\n",
    "print(content[::-1]) # lay ca chuoi dao nguoc, step -1\n"
   ]
  },
  {
   "cell_type": "code",
   "execution_count": null,
   "id": "6ec63f90",
   "metadata": {},
   "outputs": [],
   "source": [
    "# Ghép chuỗi và lặp chuỗi\n"
   ]
  },
  {
   "cell_type": "markdown",
   "id": "84c2dcb9",
   "metadata": {},
   "source": [
    "#### Thực hành: Xử lý và in ra các thông tin tương ứng trong chuỗi"
   ]
  },
  {
   "cell_type": "code",
   "execution_count": 28,
   "id": "cd71f135",
   "metadata": {},
   "outputs": [
    {
     "name": "stdout",
     "output_type": "stream",
     "text": [
      "Python Fundamental\n",
      "3-5-7\n",
      "19:30\n",
      "21:30\n",
      "+7\n"
     ]
    }
   ],
   "source": [
    "content = \"Python Fundamental,3-5-7,19:30,21:30,+7\"\n",
    "course_name = content[:18]\n",
    "schedule = content[19:24]\n",
    "start_time = content[-14:-9]\n",
    "end_time = content[-8:-3]\n",
    "GMT = content[-2:]\n",
    "print(f\"{course_name}\\n{schedule}\\n{start_time}\\n{end_time}\\n{GMT}\")"
   ]
  },
  {
   "cell_type": "markdown",
   "id": "7cbd965f",
   "metadata": {},
   "source": [
    "### Các hàm thông dụng khi xử lý string"
   ]
  },
  {
   "cell_type": "code",
   "execution_count": 29,
   "id": "eb5932a1",
   "metadata": {},
   "outputs": [
    {
     "name": "stdout",
     "output_type": "stream",
     "text": [
      "25\n"
     ]
    }
   ],
   "source": [
    "# len\n",
    "content = \"thuan dep trai bo doi the\"\n",
    "print(len(content))"
   ]
  },
  {
   "cell_type": "code",
   "execution_count": 30,
   "id": "6bef6d33",
   "metadata": {},
   "outputs": [
    {
     "name": "stdout",
     "output_type": "stream",
     "text": [
      "3\n"
     ]
    }
   ],
   "source": [
    "# count\n",
    "content = \"thuan dep trai bo doi the\"\n",
    "print(content.count(\"t\"))"
   ]
  },
  {
   "cell_type": "code",
   "execution_count": 39,
   "id": "1582bbd8",
   "metadata": {},
   "outputs": [
    {
     "name": "stdout",
     "output_type": "stream",
     "text": [
      "THUAN DEP TRAI BO DOI THE\n",
      "Thuan dep trai bo doi the\n"
     ]
    }
   ],
   "source": [
    "# upper, lower : dung de chinh viet hoa hay viet thuong\n",
    "content = \"thuan dep trai bo doi the\"\n",
    "print(content.upper())\n",
    "print(content.capitalize())"
   ]
  },
  {
   "cell_type": "code",
   "execution_count": 43,
   "id": "0d08f708",
   "metadata": {},
   "outputs": [
    {
     "name": "stdout",
     "output_type": "stream",
     "text": [
      "Thuan              \n",
      "           Thuan\n",
      "Thuan\n"
     ]
    }
   ],
   "source": [
    "# lstrip, rstrip, strip\n",
    "content = \"           Thuan              \"\n",
    "print(content.lstrip()) \n",
    "print(content.rstrip())\n",
    "print(content.strip())"
   ]
  },
  {
   "cell_type": "code",
   "execution_count": 45,
   "id": "62180d52",
   "metadata": {},
   "outputs": [
    {
     "name": "stdout",
     "output_type": "stream",
     "text": [
      "['Python Fundamental', '3-5-7', '19:30', '21:30', '+7']\n"
     ]
    }
   ],
   "source": [
    "# split\n",
    "content = \"Python Fundamental,3-5-7,19:30,21:30,+7\"\n",
    "print(content.split(\",\")) \n",
    "# cat 1 str lon thanh cac str nho nam trong 1 tap hop, dua tren mot dau hieu"
   ]
  },
  {
   "cell_type": "markdown",
   "id": "032ba1fc",
   "metadata": {},
   "source": []
  }
 ],
 "metadata": {
  "kernelspec": {
   "display_name": "Python 3 (ipykernel)",
   "language": "python",
   "name": "python3"
  },
  "language_info": {
   "codemirror_mode": {
    "name": "ipython",
    "version": 3
   },
   "file_extension": ".py",
   "mimetype": "text/x-python",
   "name": "python",
   "nbconvert_exporter": "python",
   "pygments_lexer": "ipython3",
   "version": "3.11.4"
  }
 },
 "nbformat": 4,
 "nbformat_minor": 5
}
