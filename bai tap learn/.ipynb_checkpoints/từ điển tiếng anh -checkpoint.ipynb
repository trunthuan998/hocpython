{
 "cells": [
  {
   "cell_type": "code",
   "execution_count": null,
   "id": "110985a8-a5e7-465b-9b6f-fde1e091e966",
   "metadata": {},
   "outputs": [],
   "source": [
    "# Khởi tạo từ điển Tiếng Anh - Tiếng Việt\n",
    "dictionary = {\n",
    "    \"hello\": \"xin chào\",\n",
    "    \"world\": \"thế giới\",\n",
    "    \"apple\": \"quả táo\",\n",
    "    \"computer\": \"máy tính\",\n",
    "    \"book\": \"sách\",\n",
    "    # Thêm các từ và nghĩa tương ứng vào đây\n",
    "}\n",
    "\n",
    "def translate_word(word):\n",
    "    # Hàm tra cứu từ\n",
    "    return dictionary.get(word, \"Từ này không có trong từ điển.\")\n",
    "\n",
    "while True:\n",
    "    user_input = input(\"Nhập từ tiếng Anh (hoặc 'q' để thoát): \").lower()\n",
    "    \n",
    "    if user_input == 'q':\n",
    "        break\n",
    "    \n",
    "    translation = translate_word(user_input)\n",
    "    print(f\"Dịch: {translation}\")\n"
   ]
  }
 ],
 "metadata": {
  "kernelspec": {
   "display_name": "Python 3 (ipykernel)",
   "language": "python",
   "name": "python3"
  },
  "language_info": {
   "codemirror_mode": {
    "name": "ipython",
    "version": 3
   },
   "file_extension": ".py",
   "mimetype": "text/x-python",
   "name": "python",
   "nbconvert_exporter": "python",
   "pygments_lexer": "ipython3",
   "version": "3.11.4"
  }
 },
 "nbformat": 4,
 "nbformat_minor": 5
}
