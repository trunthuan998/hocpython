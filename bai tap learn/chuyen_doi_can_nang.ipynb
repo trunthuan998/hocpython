{
 "cells": [
  {
   "cell_type": "code",
   "execution_count": 1,
   "id": "96972982-b221-4ad4-80cd-e65a0398bd6d",
   "metadata": {},
   "outputs": [],
   "source": [
    "import tkinter as tk\n",
    "\n",
    "def convert_weight():\n",
    "    try:\n",
    "        # Lấy giá trị cân nặng từ người dùng\n",
    "        kg_value = float(kg_entry.get())\n",
    "        \n",
    "        # Chuyển đổi sang các đơn vị khác\n",
    "        gram = kg_value * 1000\n",
    "        pounds = kg_value * 2.20462\n",
    "        ounce = kg_value * 35.274\n",
    "        \n",
    "        # Hiển thị kết quả\n",
    "        result_label.config(text=f\"{kg_value} Kg = {gram} g\\n{kg_value} Kg = {pounds} lb\\n{kg_value} Kg = {ounce} oz\")\n",
    "    except ValueError:\n",
    "        result_label.config(text=\"Vui lòng nhập một số hợp lệ!\")\n",
    "\n",
    "# Tạo cửa sổ Tkinter\n",
    "root = tk.Tk()\n",
    "root.title(\"Chuyển đổi cân nặng\")\n",
    "\n",
    "# Tạo và định dạng giao diện\n",
    "input_label = tk.Label(root, text=\"Nhập cân nặng (Kg):\")\n",
    "input_label.pack()\n",
    "\n",
    "kg_entry = tk.Entry(root)\n",
    "kg_entry.pack()\n",
    "\n",
    "convert_button = tk.Button(root, text=\"Chuyển đổi\", command=convert_weight)\n",
    "convert_button.pack()\n",
    "\n",
    "result_label = tk.Label(root, text=\"\")\n",
    "result_label.pack()\n",
    "\n",
    "# Chạy chương trình\n",
    "root.mainloop()\n"
   ]
  }
 ],
 "metadata": {
  "kernelspec": {
   "display_name": "Python 3 (ipykernel)",
   "language": "python",
   "name": "python3"
  },
  "language_info": {
   "codemirror_mode": {
    "name": "ipython",
    "version": 3
   },
   "file_extension": ".py",
   "mimetype": "text/x-python",
   "name": "python",
   "nbconvert_exporter": "python",
   "pygments_lexer": "ipython3",
   "version": "3.11.4"
  }
 },
 "nbformat": 4,
 "nbformat_minor": 5
}
