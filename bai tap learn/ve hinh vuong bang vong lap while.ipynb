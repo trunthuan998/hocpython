{
 "cells": [
  {
   "cell_type": "code",
   "execution_count": 3,
   "id": "b2c96f11-06fd-41ce-baee-f0d4c45df80d",
   "metadata": {},
   "outputs": [
    {
     "name": "stdin",
     "output_type": "stream",
     "text": [
      "độ dài cạnh:  500\n"
     ]
    }
   ],
   "source": [
    "import turtle\n",
    "p = turtle.Turtle()\n",
    "a = float(input(\"độ dài cạnh: \"))\n",
    "b = 0\n",
    "\n",
    "while b < 4:\n",
    "    b += 1\n",
    "    p.forward(a)\n",
    "    p.right(90)\n",
    "turtle.done()"
   ]
  },
  {
   "cell_type": "code",
   "execution_count": 30,
   "id": "31a77387-204a-4195-b4db-f24eedee112f",
   "metadata": {},
   "outputs": [],
   "source": [
    "import turtle\n",
    "p = turtle.Turtle()\n",
    "a = 0\n",
    "\n",
    "while a < 5:\n",
    "    a += 1\n",
    "    p.forward(100)\n",
    "    p.left(90)\n",
    "    p.penup()\n",
    "    p.forward(20)\n",
    "    p.pendown()\n",
    "    p.left(90)\n",
    "    p.forward(100)\n",
    "    p.right(90)\n",
    "    p.penup()\n",
    "    p.forward(20)\n",
    "    p.pendown()\n",
    "    p.right(90)\n",
    "    \n",
    "turtle.done()"
   ]
  },
  {
   "cell_type": "code",
   "execution_count": 36,
   "id": "077d9a37-dd08-4628-89e9-6ce1ca6b4410",
   "metadata": {},
   "outputs": [],
   "source": [
    "# Import thư viện đồ họa turtle\n",
    "import turtle\n",
    "# Import thư viện sinh số ngẫu nhiên\n",
    "import random as r\n",
    "# khởi tạo turtle\n",
    "t = turtle.Turtle()\n",
    "t.shape(\"turtle\")\n",
    "# Ẩn hình ảnh rùa\n",
    "t.hideturtle()\n",
    "t.pensize(3)\n",
    "t.color(\"blue\")\n",
    "t.speed(1)\n",
    "t.penup()\n",
    "# Đặt vị trí ban đầu của con rùa sang bên trái\n",
    "# so với vị trí giữa màn hình 400 pixel\n",
    "# Mục đích để rùa chạy không ra khỏi màn hình\n",
    "# khi vòng lặp quá lớn\n",
    "t.goto(-400, 0)\n",
    "# Hiển thị hình ảnh con rùa\n",
    "t.showturtle()\n",
    "count = 0\n",
    "while count < 10:\n",
    "    # sinh hai giá trị ngẫu nhiên\n",
    "    down = r.randint(20, 50)\n",
    "    up = r.randint(20, 50)\n",
    "    t.pendown()\n",
    "    # rùa tiến về phía trước với giá trị ngẫu\n",
    "    # nhiên ở trên, có để lại nét vẽ\n",
    "    t.forward(down)\n",
    "    t.penup()\n",
    "    # rùa tiến về phía trước với giá trị ngẫu\n",
    "    # nhiên ở trên, không để lại nét vẽ\n",
    "    t.forward(up)\n",
    "    count += 1\n",
    "turtle.done()"
   ]
  },
  {
   "cell_type": "code",
   "execution_count": 6,
   "id": "626a9b55-62ac-47c8-a3ad-5c55d5abee3f",
   "metadata": {},
   "outputs": [],
   "source": [
    "# Import thư viện đồ họa turtle\n",
    "import turtle\n",
    "# Import thư viện sinh số ngẫu nhiên\n",
    "import random as r\n",
    "# khởi tạo turtle\n",
    "t = turtle.Turtle()\n",
    "t.shape(\"turtle\")\n",
    "# Ẩn hình ảnh rùa\n",
    "t.hideturtle()\n",
    "t.pensize(3)\n",
    "t.color(\"blue\")\n",
    "t.speed(15)\n",
    "t.penup()\n",
    "t.goto(0,-200)\n",
    "t.pendown()\n",
    "t.circle(200)\n",
    "t.penup()\n",
    "t.goto(0, 0)\n",
    "# Hiển thị hình ảnh con rùa\n",
    "t.showturtle()\n",
    "\n",
    "t.speed(2)\n",
    "count = 0\n",
    "# cho rua chay\n",
    "\n",
    "while count < 10 :\n",
    "    goc = r.randint(0,360)\n",
    "    t.right(goc)\n",
    "    t.forward(200)\n",
    "    t.goto(0, 0)\n",
    "    count += 1\n",
    "\n",
    "turtle.done()"
   ]
  }
 ],
 "metadata": {
  "kernelspec": {
   "display_name": "Python 3 (ipykernel)",
   "language": "python",
   "name": "python3"
  },
  "language_info": {
   "codemirror_mode": {
    "name": "ipython",
    "version": 3
   },
   "file_extension": ".py",
   "mimetype": "text/x-python",
   "name": "python",
   "nbconvert_exporter": "python",
   "pygments_lexer": "ipython3",
   "version": "3.11.4"
  }
 },
 "nbformat": 4,
 "nbformat_minor": 5
}
