{
 "cells": [
  {
   "cell_type": "code",
   "execution_count": 22,
   "id": "8b1cbf45-7908-4eb2-baa1-4017c02d4bef",
   "metadata": {},
   "outputs": [],
   "source": [
    "import turtle\n",
    "pen = turtle.Turtle()\n",
    "\n",
    "# chinh net ve\n",
    "pen.pensize(5)\n",
    "pen.pencolor(\"red\")\n",
    "pen.speed(10)\n",
    "\n",
    "# ve mat hinh tron lon ben ngoai\n",
    "facesize = 200\n",
    "pen.penup()\n",
    "pen.goto(0, -200)\n",
    "pen.pendown()\n",
    "pen.circle(facesize)\n",
    "\n",
    "# ve mat bang 2 hinh tron \n",
    "pen.fillcolor(\"blue\")\n",
    "pen.penup()\n",
    "pen.goto(-100,50)\n",
    "pen.pendown()\n",
    "\n",
    "eye_size = 17.5\n",
    "\n",
    "pen.begin_fill()\n",
    "pen.circle(eye_size)\n",
    "pen.end_fill()\n",
    "pen.penup()\n",
    "\n",
    "pen.goto(100,50)\n",
    "pen.pendown()\n",
    "pen.begin_fill()\n",
    "pen.circle(eye_size)\n",
    "pen.end_fill()\n",
    "\n",
    "# ve mui\n",
    "pen.penup ()\n",
    "pen.goto(0,50)\n",
    "pen.pendown()\n",
    "pen.circle(-70, steps=3)\n",
    "\n",
    "# ve mieng bang nua hinh tron\n",
    "pen.penup()\n",
    "pen.goto(-100, -70)\n",
    "pen.pendown()\n",
    "pen.right(90)\n",
    "pen.circle(100,180)\n",
    "\n",
    "turtle.done()\n",
    "\n"
   ]
  }
 ],
 "metadata": {
  "kernelspec": {
   "display_name": "Python 3 (ipykernel)",
   "language": "python",
   "name": "python3"
  },
  "language_info": {
   "codemirror_mode": {
    "name": "ipython",
    "version": 3
   },
   "file_extension": ".py",
   "mimetype": "text/x-python",
   "name": "python",
   "nbconvert_exporter": "python",
   "pygments_lexer": "ipython3",
   "version": "3.11.4"
  }
 },
 "nbformat": 4,
 "nbformat_minor": 5
}
