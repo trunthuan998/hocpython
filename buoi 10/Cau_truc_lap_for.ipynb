{
 "cells": [
  {
   "cell_type": "markdown",
   "id": "33f9d7a5",
   "metadata": {},
   "source": [
    "# Cấu trúc lặp for trong python"
   ]
  },
  {
   "attachments": {
    "image.png": {
     "image/png": "[encoded data removed]"
    }
   },
   "cell_type": "markdown",
   "id": "f64c9eae",
   "metadata": {},
   "source": [
    "## Review: Vẽ kim tự tháp\n",
    "![image.png](attachment:image.png)"
   ]
  },
  {
   "cell_type": "code",
   "execution_count": null,
   "id": "ffcb1603",
   "metadata": {},
   "outputs": [],
   "source": []
  },
  {
   "cell_type": "markdown",
   "id": "35ef7a35",
   "metadata": {},
   "source": [
    "## for kết hợp với hàm range()"
   ]
  },
  {
   "cell_type": "markdown",
   "id": "80e01298",
   "metadata": {},
   "source": [
    "### Trường hợp 1 tham số"
   ]
  },
  {
   "cell_type": "code",
   "execution_count": 2,
   "id": "b56eadb4",
   "metadata": {},
   "outputs": [
    {
     "name": "stdout",
     "output_type": "stream",
     "text": [
      "0\n",
      "1\n",
      "2\n",
      "3\n",
      "4\n",
      "5\n",
      "6\n",
      "7\n",
      "8\n",
      "9\n",
      "10\n",
      "11\n",
      "12\n",
      "13\n",
      "14\n",
      "15\n",
      "16\n",
      "17\n",
      "18\n",
      "19\n",
      "20\n",
      "21\n",
      "22\n",
      "23\n",
      "24\n",
      "25\n",
      "26\n",
      "27\n",
      "28\n",
      "29\n",
      "30\n",
      "31\n",
      "32\n",
      "33\n",
      "34\n",
      "35\n",
      "36\n",
      "37\n",
      "38\n",
      "39\n",
      "40\n",
      "41\n",
      "42\n",
      "43\n",
      "44\n",
      "45\n",
      "46\n",
      "47\n",
      "48\n",
      "49\n",
      "50\n",
      "51\n",
      "52\n",
      "53\n",
      "54\n",
      "55\n",
      "56\n",
      "57\n",
      "58\n",
      "59\n",
      "60\n",
      "61\n",
      "62\n",
      "63\n",
      "64\n",
      "65\n",
      "66\n",
      "67\n",
      "68\n",
      "69\n",
      "70\n",
      "71\n",
      "72\n",
      "73\n",
      "74\n",
      "75\n",
      "76\n",
      "77\n",
      "78\n",
      "79\n",
      "80\n",
      "81\n",
      "82\n",
      "83\n",
      "84\n",
      "85\n",
      "86\n",
      "87\n",
      "88\n",
      "89\n",
      "90\n",
      "91\n",
      "92\n",
      "93\n",
      "94\n",
      "95\n",
      "96\n",
      "97\n",
      "98\n",
      "99\n",
      "100\n"
     ]
    }
   ],
   "source": [
    "for i in range(101):\n",
    "    print(i)"
   ]
  },
  {
   "cell_type": "markdown",
   "id": "b4eb03ed",
   "metadata": {},
   "source": [
    "### Ví dụ: In các số lẻ từ 0 đến 100"
   ]
  },
  {
   "cell_type": "code",
   "execution_count": 3,
   "id": "f73caa14",
   "metadata": {},
   "outputs": [
    {
     "name": "stdout",
     "output_type": "stream",
     "text": [
      "1\n",
      "3\n",
      "5\n",
      "7\n",
      "9\n",
      "11\n",
      "13\n",
      "15\n",
      "17\n",
      "19\n",
      "21\n",
      "23\n",
      "25\n",
      "27\n",
      "29\n",
      "31\n",
      "33\n",
      "35\n",
      "37\n",
      "39\n",
      "41\n",
      "43\n",
      "45\n",
      "47\n",
      "49\n",
      "51\n",
      "53\n",
      "55\n",
      "57\n",
      "59\n",
      "61\n",
      "63\n",
      "65\n",
      "67\n",
      "69\n",
      "71\n",
      "73\n",
      "75\n",
      "77\n",
      "79\n",
      "81\n",
      "83\n",
      "85\n",
      "87\n",
      "89\n",
      "91\n",
      "93\n",
      "95\n",
      "97\n",
      "99\n"
     ]
    }
   ],
   "source": [
    "for i in range(101):\n",
    "    if i % 2 != 0:\n",
    "        print(i)"
   ]
  },
  {
   "cell_type": "markdown",
   "id": "5b4c7f1c",
   "metadata": {},
   "source": [
    "### Trường hợp 2 tham số"
   ]
  },
  {
   "cell_type": "code",
   "execution_count": 5,
   "id": "ab369d26",
   "metadata": {},
   "outputs": [
    {
     "name": "stdout",
     "output_type": "stream",
     "text": [
      "100\n",
      "101\n",
      "102\n",
      "103\n",
      "104\n",
      "105\n",
      "106\n",
      "107\n",
      "108\n",
      "109\n",
      "110\n",
      "111\n",
      "112\n",
      "113\n",
      "114\n",
      "115\n",
      "116\n",
      "117\n",
      "118\n",
      "119\n",
      "120\n",
      "121\n",
      "122\n",
      "123\n",
      "124\n",
      "125\n",
      "126\n",
      "127\n",
      "128\n",
      "129\n",
      "130\n",
      "131\n",
      "132\n",
      "133\n",
      "134\n",
      "135\n",
      "136\n",
      "137\n",
      "138\n",
      "139\n",
      "140\n",
      "141\n",
      "142\n",
      "143\n",
      "144\n",
      "145\n",
      "146\n",
      "147\n",
      "148\n",
      "149\n",
      "150\n",
      "151\n",
      "152\n",
      "153\n",
      "154\n",
      "155\n",
      "156\n",
      "157\n",
      "158\n",
      "159\n",
      "160\n",
      "161\n",
      "162\n",
      "163\n",
      "164\n",
      "165\n",
      "166\n",
      "167\n",
      "168\n",
      "169\n",
      "170\n",
      "171\n",
      "172\n",
      "173\n",
      "174\n",
      "175\n",
      "176\n",
      "177\n",
      "178\n",
      "179\n",
      "180\n",
      "181\n",
      "182\n",
      "183\n",
      "184\n",
      "185\n",
      "186\n",
      "187\n",
      "188\n",
      "189\n",
      "190\n",
      "191\n",
      "192\n",
      "193\n",
      "194\n",
      "195\n",
      "196\n",
      "197\n",
      "198\n",
      "199\n",
      "200\n"
     ]
    }
   ],
   "source": [
    "for i in range(100,201):\n",
    "    print(i)"
   ]
  },
  {
   "cell_type": "markdown",
   "id": "06853353",
   "metadata": {},
   "source": [
    "### Ví dụ: In các số chia hết cho 7 từ a đến b"
   ]
  },
  {
   "cell_type": "code",
   "execution_count": 6,
   "id": "7b21bcdf",
   "metadata": {},
   "outputs": [
    {
     "name": "stdout",
     "output_type": "stream",
     "text": [
      "7\n",
      "14\n",
      "21\n",
      "28\n",
      "35\n",
      "42\n",
      "49\n"
     ]
    }
   ],
   "source": [
    "for i in range(3,50):\n",
    "    if i % 7 == 0:\n",
    "        print(i)"
   ]
  },
  {
   "cell_type": "markdown",
   "id": "5f784920",
   "metadata": {},
   "source": [
    "### Trường hợp 3 tham số"
   ]
  },
  {
   "cell_type": "code",
   "execution_count": null,
   "id": "f6b32018",
   "metadata": {},
   "outputs": [],
   "source": []
  },
  {
   "cell_type": "markdown",
   "id": "a4c0fc85",
   "metadata": {},
   "source": [
    "### Ví dụ: Biểu diễn cấp số cộng"
   ]
  },
  {
   "cell_type": "code",
   "execution_count": 18,
   "id": "9e9a5cbf",
   "metadata": {},
   "outputs": [
    {
     "name": "stdin",
     "output_type": "stream",
     "text": [
      " 100\n",
      " 2\n"
     ]
    },
    {
     "name": "stdout",
     "output_type": "stream",
     "text": [
      "102\n",
      "104\n",
      "106\n",
      "108\n",
      "110\n",
      "112\n",
      "114\n",
      "116\n",
      "118\n",
      "120\n"
     ]
    }
   ],
   "source": [
    "n = int(input(\"\"))\n",
    "d = int(input(\"\"))\n",
    "for i in range(n + d,n + 10*d + 1,d):\n",
    "    print(i)\n",
    "   \n",
    "  "
   ]
  },
  {
   "cell_type": "markdown",
   "id": "a2a61887",
   "metadata": {},
   "source": [
    "## lặp qua một chuỗi"
   ]
  },
  {
   "cell_type": "code",
   "execution_count": 20,
   "id": "e495f392",
   "metadata": {},
   "outputs": [
    {
     "name": "stdout",
     "output_type": "stream",
     "text": [
      "h\n",
      "e\n",
      "l\n",
      "l\n",
      "o\n"
     ]
    }
   ],
   "source": [
    "content = \"hello\"\n",
    "for i in range(len(content)):\n",
    "    print(content[i])"
   ]
  },
  {
   "cell_type": "code",
   "execution_count": 21,
   "id": "666de046-e738-4514-98d6-5f08614f1cca",
   "metadata": {},
   "outputs": [
    {
     "name": "stdout",
     "output_type": "stream",
     "text": [
      "h\n",
      "e\n",
      "l\n",
      "l\n",
      "o\n"
     ]
    }
   ],
   "source": [
    "content = \"hello\"\n",
    "for c in content:\n",
    "    print(c)"
   ]
  },
  {
   "cell_type": "markdown",
   "id": "a4013631",
   "metadata": {},
   "source": [
    "### Ví dụ: Đếm số lượng nguyên âm trong chuỗi"
   ]
  },
  {
   "cell_type": "code",
   "execution_count": 24,
   "id": "319bfb92",
   "metadata": {},
   "outputs": [
    {
     "name": "stdin",
     "output_type": "stream",
     "text": [
      "Nhập vào một chuỗi:  thuan\n"
     ]
    },
    {
     "name": "stdout",
     "output_type": "stream",
     "text": [
      "u\n",
      "a\n",
      "Số lượng nguyên âm trong chuỗi là: 2\n"
     ]
    }
   ],
   "source": [
    "content = input(\"Nhập vào một chuỗi: \")\n",
    "nguyen_am = \"AEIOUaeiou\"\n",
    "count = 0\n",
    "\n",
    "for c in content:\n",
    "    if c in nguyen_am:\n",
    "        print(c)\n",
    "        count += 1\n",
    "\n",
    "print(\"Số nguyên âm trong chuỗi là:\", count)"
   ]
  },
  {
   "cell_type": "markdown",
   "id": "49bf78d3",
   "metadata": {},
   "source": [
    "## Lặp qua một danh sách chuỗi"
   ]
  },
  {
   "cell_type": "code",
   "execution_count": 28,
   "id": "0a5874cf",
   "metadata": {},
   "outputs": [
    {
     "name": "stdout",
     "output_type": "stream",
     "text": [
      "['nguyen', 'trung', 'thuan']\n",
      "nguyen\n",
      "trung\n",
      "thuan\n"
     ]
    }
   ],
   "source": [
    "c = \"nguyen trung thuan\"\n",
    "list_c = c.split(\" \")\n",
    "print(list_c)\n",
    "for i in range(len(list_c)):\n",
    "    print(list_c[i])"
   ]
  },
  {
   "cell_type": "markdown",
   "id": "be1b5ba5",
   "metadata": {},
   "source": [
    "### Ví dụ: Tìm chuỗi dài nhất"
   ]
  },
  {
   "cell_type": "code",
   "execution_count": null,
   "id": "d6e7ef2c",
   "metadata": {},
   "outputs": [],
   "source": []
  },
  {
   "cell_type": "markdown",
   "id": "69fa4d9f",
   "metadata": {},
   "source": [
    "## Vòng lặp lồng nhau"
   ]
  },
  {
   "cell_type": "code",
   "execution_count": 53,
   "id": "864bc218",
   "metadata": {},
   "outputs": [
    {
     "name": "stdout",
     "output_type": "stream",
     "text": [
      "0 7\n",
      "0 14\n",
      "1 6\n",
      "1 13\n",
      "1 20\n",
      "2 5\n",
      "2 12\n",
      "2 19\n",
      "3 4\n",
      "3 11\n",
      "3 18\n",
      "4 10\n",
      "4 17\n",
      "5 9\n",
      "5 16\n",
      "6 8\n",
      "6 15\n",
      "7 14\n",
      "8 13\n",
      "8 20\n",
      "9 12\n",
      "9 19\n",
      "10 11\n",
      "10 18\n",
      "11 17\n",
      "12 16\n",
      "13 15\n",
      "15 20\n",
      "16 19\n",
      "17 18\n"
     ]
    }
   ],
   "source": [
    "for x in range(0,21):\n",
    "    for y in range(x + 1, 21):\n",
    "        if (x + y) % 7 == 0:\n",
    "            print(x,y)\n",
    "        \n",
    "        "
   ]
  },
  {
   "cell_type": "code",
   "execution_count": 52,
   "id": "87fc0ef2-57a5-4f98-9f97-1da42ac90ca5",
   "metadata": {},
   "outputs": [
    {
     "name": "stdout",
     "output_type": "stream",
     "text": [
      "0 7\n",
      "0 14\n"
     ]
    }
   ],
   "source": [
    "for x in range(0, 21):\n",
    "    for y in range(x + 1, 21):\n",
    "        if x + y % 7 == 0:\n",
    "            print(x, y)\n"
   ]
  }
 ],
 "metadata": {
  "kernelspec": {
   "display_name": "Python 3 (ipykernel)",
   "language": "python",
   "name": "python3"
  },
  "language_info": {
   "codemirror_mode": {
    "name": "ipython",
    "version": 3
   },
   "file_extension": ".py",
   "mimetype": "text/x-python",
   "name": "python",
   "nbconvert_exporter": "python",
   "pygments_lexer": "ipython3",
   "version": "3.11.4"
  }
 },
 "nbformat": 4,
 "nbformat_minor": 5
}
